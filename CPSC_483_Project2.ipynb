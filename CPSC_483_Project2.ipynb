{
 "cells": [
  {
   "cell_type": "markdown",
   "metadata": {},
   "source": [
    "# Read ME  \n",
    "##  Adam Shirley  \n",
    "## bsa919adam@gmail.com  \n",
    "## CPSC 438 Project2  \n",
    "\n",
    "### This project looks at and examines realestate data from Boston and tries to create a model for the median home value"
   ]
  },
  {
   "cell_type": "markdown",
   "metadata": {},
   "source": [
    "### Experiment 1 and 2"
   ]
  },
  {
   "cell_type": "code",
   "execution_count": 1,
   "metadata": {},
   "outputs": [],
   "source": [
    "import numpy as np\n",
    "import matplotlib.pyplot as plt\n",
    "\n",
    "data = np.load(\"boston.npz\")\n",
    "\n",
    "target = data['target']\n",
    "test_target = target[102:]\n",
    "valid_target = target[:102]\n",
    "\n",
    "validation = data['features'][:102]\n",
    "test = data['features'][102:]\n"
   ]
  },
  {
   "cell_type": "markdown",
   "metadata": {},
   "source": [
    "### Experiment 3"
   ]
  },
  {
   "cell_type": "code",
   "execution_count": 2,
   "metadata": {},
   "outputs": [
    {
     "data": {
      "image/png": "[encoded data removed]",
      "text/plain": [
       "<Figure size 432x288 with 1 Axes>"
      ]
     },
     "metadata": {
      "needs_background": "light"
     },
     "output_type": "display_data"
    }
   ],
   "source": [
    "plt.plot(test[:,5], test_target, 'ro')\n",
    "plt.xlabel(\"Number of rooms\")\n",
    "plt.ylabel(\"price times $1000\")\n",
    "plt.show()"
   ]
  },
  {
   "cell_type": "markdown",
   "metadata": {},
   "source": [
    "The relationship does seems to be somewhat linear"
   ]
  },
  {
   "cell_type": "markdown",
   "metadata": {},
   "source": [
    "### Experiment 4"
   ]
  },
  {
   "cell_type": "code",
   "execution_count": 3,
   "metadata": {},
   "outputs": [
    {
     "name": "stdout",
     "output_type": "stream",
     "text": [
      "w1 =  9.03591206114657\n",
      "w0 =  -34.127314809180376\n"
     ]
    }
   ],
   "source": [
    "x = test[:,5]\n",
    "t = test_target\n",
    "\n",
    "numeratorw1 = np.average(x*t) - np.average(x)*np.average(t)\n",
    "denominatorw1 = np.average(np.square(x)) - np.average(x)**2\n",
    "\n",
    "w1 = numeratorw1/denominatorw1\n",
    "w0 = np.average(t) - w1*np.average(x)\n",
    "\n",
    "print(\"w1 = \", w1)\n",
    "print(\"w0 = \", w0)\n"
   ]
  },
  {
   "cell_type": "markdown",
   "metadata": {},
   "source": [
    "The equation is t = -34.13 + 9.036x\n"
   ]
  },
  {
   "cell_type": "markdown",
   "metadata": {},
   "source": [
    "### Experiment 5"
   ]
  },
  {
   "cell_type": "code",
   "execution_count": 4,
   "metadata": {},
   "outputs": [
    {
     "data": {
      "image/png": "[encoded data removed]",
      "text/plain": [
       "<Figure size 432x288 with 1 Axes>"
      ]
     },
     "metadata": {
      "needs_background": "light"
     },
     "output_type": "display_data"
    }
   ],
   "source": [
    "plt.plot(x, w0 + w1 * x)\n",
    "plt.plot(test[:,5], test_target, 'ro')\n",
    "#plt.axis([3.5, 10, 0, 40])\n",
    "plt.xlabel(\"Number of rooms\")\n",
    "plt.ylabel(\"price times $1000\")\n",
    "plt.show()"
   ]
  },
  {
   "cell_type": "markdown",
   "metadata": {},
   "source": [
    "The model appears to fit the data ok but not super great"
   ]
  },
  {
   "cell_type": "markdown",
   "metadata": {},
   "source": [
    "### Experiment 6"
   ]
  },
  {
   "cell_type": "code",
   "execution_count": 5,
   "metadata": {},
   "outputs": [
    {
     "name": "stdout",
     "output_type": "stream",
     "text": [
      "averge Squared Loss = 41.05654883138217\n"
     ]
    }
   ],
   "source": [
    "predicted = w0 + w1 * x\n",
    "\n",
    "avgLoss = np.average(np.square(test_target - predicted))  \n",
    "\n",
    "print('averge Squared Loss =', avgLoss )"
   ]
  },
  {
   "cell_type": "markdown",
   "metadata": {},
   "source": [
    "### Experiment 7"
   ]
  },
  {
   "cell_type": "code",
   "execution_count": 6,
   "metadata": {},
   "outputs": [
    {
     "name": "stdout",
     "output_type": "stream",
     "text": [
      "averge Squared Loss = 53.767877955423295\n"
     ]
    }
   ],
   "source": [
    "predicted_valid = w0 + w1 * validation[:,5]\n",
    "\n",
    "avgLoss_valid = np.average(np.square(valid_target - predicted_valid))  \n",
    "\n",
    "print('averge Squared Loss =', avgLoss_valid )"
   ]
  },
  {
   "cell_type": "markdown",
   "metadata": {},
   "source": [
    "The difference comes from the fact that the model is trained on the training set as such it will predict the training set much more accuratley than the validation"
   ]
  },
  {
   "cell_type": "markdown",
   "metadata": {},
   "source": [
    "### Experiment 8"
   ]
  },
  {
   "cell_type": "code",
   "execution_count": 7,
   "metadata": {},
   "outputs": [
    {
     "name": "stdout",
     "output_type": "stream",
     "text": [
      "w =  [ 3.19642409e+01 -1.14552861e-01  4.48932130e-02  2.83755698e-02\n",
      "  2.70909742e+00 -1.67403672e+01  4.11148209e+00 -8.47905081e-04\n",
      " -1.38493905e+00  3.21084569e-01 -1.22497115e-02 -9.12523500e-01\n",
      "  1.02533638e-02 -4.78414631e-01]\n"
     ]
    }
   ],
   "source": [
    "X = test\n",
    "bias = np.ones((404, 1))\n",
    "X= np.concatenate((bias, X),axis = 1)\n",
    "t = test_target\n",
    "\n",
    "w = np.matmul(np.matmul(np.linalg.inv(np.matmul(np.transpose(X), X )), np.transpose(X)), t) \n",
    "print(\"w = \", w)\n"
   ]
  },
  {
   "cell_type": "code",
   "execution_count": 8,
   "metadata": {},
   "outputs": [
    {
     "name": "stdout",
     "output_type": "stream",
     "text": [
      "Training set avg loss =  21.807199582316606\n"
     ]
    }
   ],
   "source": [
    "predicted_m = np.matmul(X, w)\n",
    "\n",
    "avgLoss_m = np.matmul(np.transpose(t - predicted_m), t- predicted_m)/predicted_m.shape[0]\n",
    "\n",
    "print(\"Training set avg loss = \", avgLoss_m )"
   ]
  },
  {
   "cell_type": "code",
   "execution_count": 9,
   "metadata": {},
   "outputs": [
    {
     "name": "stdout",
     "output_type": "stream",
     "text": [
      "Validation set avg loss =  22.863680896365505\n"
     ]
    }
   ],
   "source": [
    "Xvalid = validation\n",
    "bias = np.ones((validation.shape[0], 1))\n",
    "Xvalid= np.concatenate((bias, Xvalid),axis = 1)\n",
    "tvalid = valid_target\n",
    "\n",
    "predicted_mvalid = np.matmul(Xvalid, w)\n",
    "\n",
    "avgLoss_mvalid = np.matmul(np.transpose(tvalid - predicted_mvalid), tvalid- predicted_mvalid)/predicted_mvalid.shape[0]\n",
    "\n",
    "print(\"Validation set avg loss = \", avgLoss_mvalid )"
   ]
  },
  {
   "cell_type": "markdown",
   "metadata": {},
   "source": [
    "The values are much more accurate due to the inclussion of more variables allowing for the model to better fit the expected results"
   ]
  },
  {
   "cell_type": "markdown",
   "metadata": {},
   "source": [
    "### Experiment 9\n",
    "The following are the values represented in the data set in order  \n",
    " CRIM     per capita crime rate by town   \n",
    " ZN       proportion of residential land zoned for lots over 25,000 sq.ft.   \n",
    " INDUS    proportion of non-retail business acres per town  \n",
    " CHAS     Charles River dummy variable (= 1 if tract bounds river; 0 otherwise)  \n",
    " NOX      nitric oxides concentration (parts per 10 million)  \n",
    " RM       average number of rooms per dwelling  \n",
    " AGE      proportion of owner-occupied units built prior to 1940  \n",
    " DIS      weighted distances to five Boston employment centres  \n",
    " RAD      index of accessibility to radial highways  \n",
    " TAX      full-value property-tax rate per $10,000 \n",
    " \n",
    " PTRATIO  pupil-teacher ratio by town    \n",
    " B        1000(Bk - 0.63)^2 where Bk is the proportion of blacks by town     \n",
    " LSTAT    % lower status of the population    \n",
    " MEDV     Median value of owner-occupied homes in $1000's     \n",
    " \n",
    " The Median home value will be affected by the following amounts when the values above chnge one unit "
   ]
  },
  {
   "cell_type": "code",
   "execution_count": 10,
   "metadata": {},
   "outputs": [
    {
     "name": "stdout",
     "output_type": "stream",
     "text": [
      "Crim =  $-114.55\n",
      "ZN =  $44.89\n",
      "Indus =  $28.38\n",
      "CHAS =  $2,709.10\n",
      "Nox =  $-16,740.37\n",
      "RM =  $4,111.48\n",
      "AGE =  $-0.85\n",
      "DIS =  $-1,384.94\n",
      "RAD =  $321.08\n",
      "TAX =  $-12.25\n",
      "PTRATIO =  $-912.52\n",
      "B  =  $10.25\n",
      "LSTAT =  $-478.41\n"
     ]
    }
   ],
   "source": [
    "print(\"Crim = \",\"${:,.2f}\".format(w[1]*1000))\n",
    "print(\"ZN = \", \"${:,.2f}\".format(w[2]*1000))\n",
    "print('Indus = ', \"${:,.2f}\".format(w[3]*1000))\n",
    "print('CHAS = ',\"${:,.2f}\".format(w[4]*1000))\n",
    "print('Nox = ',\"${:,.2f}\".format(w[5]*1000))\n",
    "print('RM = ', \"${:,.2f}\".format(w[6]*1000))\n",
    "print('AGE = ', \"${:,.2f}\".format(w[7]*1000))\n",
    "print('DIS = ', \"${:,.2f}\".format(w[8]*1000))\n",
    "print('RAD = ', \"${:,.2f}\".format(w[9]*1000))\n",
    "print('TAX = ', \"${:,.2f}\".format(w[10]*1000))\n",
    "print('PTRATIO = ', \"${:,.2f}\".format(w[11]*1000))\n",
    "print('B  = ', \"${:,.2f}\".format(w[12]*1000))\n",
    "print('LSTAT = ', \"${:,.2f}\".format(w[13]*1000))"
   ]
  },
  {
   "cell_type": "markdown",
   "metadata": {},
   "source": [
    "### Experiment 10\n",
    "The most important features are the Crime rate, The location being on the Charles river, the number of rooms, and the distance to the differnt employment centers.\n",
    "The other value that seems relevant is the Nitric oxides concentration but this has a very small range through the set as well as the fact it changes by tenths more than 1 which makes it still relevant but not as much as it seems"
   ]
  }
 ],
 "metadata": {
  "kernelspec": {
   "display_name": "Python 3",
   "language": "python",
   "name": "python3"
  },
  "language_info": {
   "codemirror_mode": {
    "name": "ipython",
    "version": 3
   },
   "file_extension": ".py",
   "mimetype": "text/x-python",
   "name": "python",
   "nbconvert_exporter": "python",
   "pygments_lexer": "ipython3",
   "version": "3.8.5"
  }
 },
 "nbformat": 4,
 "nbformat_minor": 4
}
